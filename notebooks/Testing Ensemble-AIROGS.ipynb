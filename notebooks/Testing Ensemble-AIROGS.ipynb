{
 "cells": [
  {
   "cell_type": "code",
   "execution_count": null,
   "id": "d26271aa",
   "metadata": {},
   "outputs": [],
   "source": [
    "import os\n",
    "import math\n",
    "import torch\n",
    "import torchvision\n",
    "import torch.nn as nn\n",
    "import torch.optim as optim\n",
    "from torch.nn import CrossEntropyLoss\n",
    "from tqdm import tqdm\n",
    "from torchvision.models import resnet18\n",
    "import timm\n",
    "from torch.utils.data import DataLoader\n",
    "from skimage.io import imread\n",
    "import sklearn\n",
    "from sklearn import metrics\n",
    "from sklearn.metrics import f1_score\n",
    "from sklearn.utils import class_weight\n",
    "import pandas as pd\n",
    "import numpy as np\n",
    "import torchvision.transforms as transforms\n",
    "from PIL import Image\n",
    "import matplotlib.pyplot as plt\n",
    "import random\n",
    "from early_stopping import EarlyStopping\n",
    "import os\n",
    "from airogs_dataset import Airogs\n",
    "import wandb\n",
    "import sys\n",
    "import sklearn.metrics\n",
    "import yaml\n",
    "torch.multiprocessing.set_sharing_strategy('file_system')"
   ]
  },
  {
   "cell_type": "code",
   "execution_count": null,
   "id": "98fe9b51",
   "metadata": {},
   "outputs": [],
   "source": [
    "############ CONFIGS ############\n",
    "\n",
    "num_workers = 32\n",
    "batch_size = 8\n",
    "\n",
    "\n",
    "#original\n",
    "model_0 = timm.create_model('efficientnet_b0',num_classes=2)\n",
    "model_0.load_state_dict(torch.load('/home/ahmed.mahrooqi/Desktop/airogs_final/output/222r_2/airogs_1.pt')['state_dict'])\n",
    "\n",
    "#polar\n",
    "model_1 = timm.create_model('efficientnet_b0',num_classes=2)\n",
    "model_1.load_state_dict(torch.load('/home/ahmed.mahrooqi/Desktop/airogs_final/output/11_1/airogs_2.pt')['state_dict'])\n",
    "\n",
    "#cropped\n",
    "model_2 = timm.create_model('efficientnet_b0',num_classes=2)\n",
    "model_2.load_state_dict(torch.load('/home/ahmed.mahrooqi/Desktop/airogs_final/output/63_1/airogs_3.pt')['state_dict'])\n",
    "\n",
    "models=[model_0,model_1,model_2]\n",
    "\n",
    "\n",
    "transforms = [\n",
    "    torchvision.transforms.Compose([torchvision.transforms.ToTensor(),torchvision.transforms.Resize((256,256))]),\n",
    "    torchvision.transforms.Compose([torchvision.transforms.ToTensor(),torchvision.transforms.Resize((256,256))]),\n",
    "    torchvision.transforms.Compose([torchvision.transforms.ToTensor(),torchvision.transforms.Resize((256,256))]),\n",
    "]\n",
    "\n",
    "apply_clahe = [True,True,True]\n",
    "path = ['/l/users/20020040',\n",
    "        '/l/users/20020040',\n",
    "         '/l/users/20020040'\n",
    "        ]\n",
    "\n",
    "images_dir_name = ['train_512',\n",
    "                   'train_512_cropped_unet_orig',\n",
    "                   'train_512_cropped_unet_orig'\n",
    "]\n",
    "test_datasets = [Airogs(path=path[0],images_dir_name=images_dir_name[0],split=\"test\",transforms=transforms[0],apply_clahe=apply_clahe[0]),\n",
    "                 Airogs(path=path[1],images_dir_name=images_dir_name[1],split=\"test\",transforms=transforms[1],apply_clahe=apply_clahe[1],polar_transforms=True),\n",
    "                 Airogs(path=path[2],images_dir_name=images_dir_name[2],split=\"test\",transforms=transforms[2],apply_clahe=apply_clahe[2]),\n",
    "                ]\n",
    "                 \n",
    "\n",
    "test_loader = [\n",
    "    DataLoader(test_datasets[0], batch_size=batch_size,shuffle=False,num_workers=num_workers),\n",
    "    DataLoader(test_datasets[1], batch_size=batch_size,shuffle=False,num_workers=num_workers),\n",
    "    DataLoader(test_datasets[2], batch_size=batch_size,shuffle=False,num_workers=num_workers)\n",
    "]"
   ]
  },
  {
   "cell_type": "code",
   "execution_count": null,
   "id": "944003ef",
   "metadata": {},
   "outputs": [],
   "source": [
    "labels = {0: [], 1: [], 2: []}\n",
    "predictions = {0: [], 1: [], 2: []}\n",
    "probs = {0: [], 1: [], 2: []}\n",
    "\n",
    "with torch.no_grad():\n",
    "    for i in range(3):\n",
    "        models[i].eval()\n",
    "        models[i] = models[i].cuda()\n",
    "        for (inp, target) in tqdm(test_loader[i]):\n",
    "            labels[i] += target\n",
    "            batch_prediction = models[i](inp.cuda())\n",
    "            probs[i] += torch.softmax(batch_prediction,dim=1)\n",
    "            _, batch_prediction = torch.max(batch_prediction, dim=1)\n",
    "            predictions[i] += batch_prediction.detach().tolist()"
   ]
  },
  {
   "cell_type": "code",
   "execution_count": null,
   "id": "d5c3a0e1",
   "metadata": {},
   "outputs": [],
   "source": [
    "_probs = {}\n",
    "_labels = {}\n",
    "\n",
    "_probs[0] = np.asarray(list(map(lambda item: item.cpu().numpy(), probs[0])))\n",
    "_probs[1] = np.asarray(list(map(lambda item: item.cpu().numpy(), probs[1])))\n",
    "_probs[2] = np.asarray(list(map(lambda item: item.cpu().numpy(), probs[2])))\n",
    "\n",
    "_labels[0] = np.asarray(list(map(lambda item: item.cpu().numpy(), labels[0])))\n",
    "_labels[1] = np.asarray(list(map(lambda item: item.cpu().numpy(), labels[1])))\n",
    "_labels[2] = np.asarray(list(map(lambda item: item.cpu().numpy(), labels[2])))"
   ]
  },
  {
   "cell_type": "code",
   "execution_count": null,
   "id": "3d54aa55",
   "metadata": {},
   "outputs": [],
   "source": [
    "w_1 = 2\n",
    "w_2 = .5\n",
    "w_3 = .5\n",
    "avg_probs = (w_1*_probs[0] + w_2*_probs[1] + w_3*_probs[2])/3"
   ]
  },
  {
   "cell_type": "code",
   "execution_count": null,
   "id": "5091c546",
   "metadata": {},
   "outputs": [],
   "source": [
    "avg_probs.shape"
   ]
  },
  {
   "cell_type": "code",
   "execution_count": null,
   "id": "9d5ba5ce",
   "metadata": {},
   "outputs": [],
   "source": [
    "preds = np.argmax(avg_probs,axis=1)"
   ]
  },
  {
   "cell_type": "code",
   "execution_count": null,
   "id": "63ef0c4f",
   "metadata": {},
   "outputs": [],
   "source": [
    "gt = _labels[0]"
   ]
  },
  {
   "cell_type": "code",
   "execution_count": null,
   "id": "f4fdc71d",
   "metadata": {},
   "outputs": [],
   "source": [
    "sklearn.metrics.f1_score(gt, preds, average=\"macro\")"
   ]
  },
  {
   "cell_type": "code",
   "execution_count": null,
   "id": "58ebebb3",
   "metadata": {},
   "outputs": [],
   "source": [
    "sklearn.metrics.roc_auc_score(gt, preds)"
   ]
  }
 ],
 "metadata": {
  "kernelspec": {
   "display_name": "Python 3",
   "language": "python",
   "name": "python3"
  },
  "language_info": {
   "codemirror_mode": {
    "name": "ipython",
    "version": 3
   },
   "file_extension": ".py",
   "mimetype": "text/x-python",
   "name": "python",
   "nbconvert_exporter": "python",
   "pygments_lexer": "ipython3",
   "version": "3.9.13"
  }
 },
 "nbformat": 4,
 "nbformat_minor": 5
}
