{
 "cells": [
  {
   "cell_type": "code",
   "execution_count": null,
   "id": "d26271aa",
   "metadata": {},
   "outputs": [],
   "source": [
    "import os\n",
    "import math\n",
    "import torch\n",
    "import torchvision\n",
    "import torch.nn as nn\n",
    "import torch.optim as optim\n",
    "from torch.nn import CrossEntropyLoss\n",
    "from tqdm import tqdm\n",
    "from torchvision.models import resnet18\n",
    "import timm\n",
    "from torch.utils.data import DataLoader\n",
    "from skimage.io import imread\n",
    "import sklearn\n",
    "from sklearn import metrics\n",
    "from sklearn.metrics import f1_score\n",
    "from sklearn.utils import class_weight\n",
    "import pandas as pd\n",
    "import numpy as np\n",
    "import torchvision.transforms as transforms\n",
    "from PIL import Image\n",
    "import matplotlib.pyplot as plt\n",
    "import random\n",
    "from early_stopping import EarlyStopping\n",
    "import os\n",
    "from airogs_dataset import Airogs\n",
    "import wandb\n",
    "import sys\n",
    "from torchvision.datasets import ImageFolder\n",
    "import sklearn.metrics\n",
    "import yaml\n",
    "torch.multiprocessing.set_sharing_strategy('file_system')"
   ]
  },
  {
   "cell_type": "code",
   "execution_count": null,
   "id": "d9cc4f68",
   "metadata": {},
   "outputs": [],
   "source": [
    "from skimage.exposure import equalize_adapthist\n",
    "from skimage.transform import warp_polar\n",
    "\n",
    "class CLAHE(torch.nn.Module):\n",
    "    def forward(self, img):\n",
    "        image = np.array(img, dtype=np.float64) / 255.0\n",
    "        image = equalize_adapthist(image)\n",
    "        image = (image*255).astype('uint8')\n",
    "\n",
    "        return image\n",
    "\n",
    "class POLAR(torch.nn.Module):\n",
    "    def polar(self,image):\n",
    "        return warp_polar(image, radius=(max(image.shape) // 2), multichannel=True)\n",
    "    \n",
    "    def forward(self, image):\n",
    "        image = np.array(image, dtype=np.float64)\n",
    "        image = self.polar(image)\n",
    "        return image\n",
    "\n",
    "def set_seed(s):\n",
    "    torch.manual_seed(s)\n",
    "    torch.cuda.manual_seed_all(s)\n",
    "    torch.backends.cudnn.deterministic = True\n",
    "    torch.backends.cudnn.benchmark = False\n",
    "    np.random.seed(s)\n",
    "    random.seed(s)\n",
    "    os.environ['PYTHONHASHSEED'] = str(s)\n",
    "set_seed(0)"
   ]
  },
  {
   "cell_type": "code",
   "execution_count": null,
   "id": "98fe9b51",
   "metadata": {},
   "outputs": [],
   "source": [
    "############ CONFIGS ############\n",
    "\n",
    "num_workers = 32\n",
    "batch_size = 8\n",
    "\n",
    "\n",
    "#original\n",
    "model_0 = timm.create_model('efficientnet_b0',num_classes=2)\n",
    "model_0.load_state_dict(torch.load('PATH_TO_CHEKPOINTS/rimonedl_1.pt')['state_dict'])\n",
    "\n",
    "\n",
    "\n",
    "#polar\n",
    "model_1 = timm.create_model('efficientnet_b0',num_classes=2)\n",
    "model_1.load_state_dict(torch.load('PATH_TO_CHEKPOINTS/rimonedl_2.pt')['state_dict'])\n",
    "\n",
    "models=[model_0,model_1]\n",
    "\n",
    "\n",
    "transforms = [\n",
    "    torchvision.transforms.Compose([CLAHE(),torchvision.transforms.ToTensor(),torchvision.transforms.Resize((256,256))]),\n",
    "    torchvision.transforms.Compose([POLAR(),CLAHE(),torchvision.transforms.ToTensor(),torchvision.transforms.Resize((256,256))]),\n",
    "]\n",
    "\n",
    "path = ['/l/users/20020052/data/rim_one_dl/partitioned_by_hospital/test_set',\n",
    "        '/l/users/20020052/data/rim_one_dl/partitioned_by_hospital/test_set',\n",
    "        ]\n",
    "\n",
    "\n",
    "test_datasets = [\n",
    "                ImageFolder(path[0], transform=transforms[0]),\n",
    "                ImageFolder(path[1], transform=transforms[1]),\n",
    "                ]\n",
    "                 \n",
    "\n",
    "test_loader = [\n",
    "    DataLoader(test_datasets[0], batch_size=batch_size,shuffle=False,num_workers=num_workers),\n",
    "    DataLoader(test_datasets[1], batch_size=batch_size,shuffle=False,num_workers=num_workers),\n",
    "]"
   ]
  },
  {
   "cell_type": "code",
   "execution_count": null,
   "id": "944003ef",
   "metadata": {},
   "outputs": [],
   "source": [
    "labels = {0: [], 1: []}\n",
    "predictions = {0: [], 1: []}\n",
    "probs = {0: [], 1: []}\n",
    "\n",
    "with torch.no_grad():\n",
    "    for i in range(2):\n",
    "        models[i].eval()\n",
    "        models[i] = models[i].cuda()\n",
    "        for (inp, target) in tqdm(test_loader[i]):\n",
    "            labels[i] += target\n",
    "            batch_prediction = models[i](inp.cuda())\n",
    "            probs[i] += torch.softmax(batch_prediction,dim=1)\n",
    "            _, batch_prediction = torch.max(batch_prediction, dim=1)\n",
    "            predictions[i] += batch_prediction.detach().tolist()"
   ]
  },
  {
   "cell_type": "code",
   "execution_count": null,
   "id": "d5c3a0e1",
   "metadata": {},
   "outputs": [],
   "source": [
    "_probs = {}\n",
    "_labels = {}\n",
    "\n",
    "_probs[0] = np.asarray(list(map(lambda item: item.cpu().numpy(), probs[0])))\n",
    "_probs[1] = np.asarray(list(map(lambda item: item.cpu().numpy(), probs[1])))\n",
    "\n",
    "_labels[0] = np.asarray(list(map(lambda item: item.cpu().numpy(), labels[0])))\n",
    "_labels[1] = np.asarray(list(map(lambda item: item.cpu().numpy(), labels[1])))\n"
   ]
  },
  {
   "cell_type": "code",
   "execution_count": null,
   "id": "3d54aa55",
   "metadata": {},
   "outputs": [],
   "source": [
    "w_1 = 1\n",
    "w_2 = 1\n",
    "avg_probs = ((w_1*_probs[0]) + (w_2*_probs[1]))/2"
   ]
  },
  {
   "cell_type": "code",
   "execution_count": null,
   "id": "9d5ba5ce",
   "metadata": {},
   "outputs": [],
   "source": [
    "preds = np.argmax(avg_probs,axis=1)"
   ]
  },
  {
   "cell_type": "code",
   "execution_count": null,
   "id": "63ef0c4f",
   "metadata": {},
   "outputs": [],
   "source": [
    "gt = _labels[0]"
   ]
  },
  {
   "cell_type": "code",
   "execution_count": null,
   "id": "f4fdc71d",
   "metadata": {},
   "outputs": [],
   "source": [
    "sklearn.metrics.f1_score(gt, preds, average=\"macro\")"
   ]
  },
  {
   "cell_type": "code",
   "execution_count": null,
   "id": "58ebebb3",
   "metadata": {},
   "outputs": [],
   "source": [
    "sklearn.metrics.roc_auc_score(gt, preds)"
   ]
  }
 ],
 "metadata": {
  "kernelspec": {
   "display_name": "Python 3",
   "language": "python",
   "name": "python3"
  },
  "language_info": {
   "codemirror_mode": {
    "name": "ipython",
    "version": 3
   },
   "file_extension": ".py",
   "mimetype": "text/x-python",
   "name": "python",
   "nbconvert_exporter": "python",
   "pygments_lexer": "ipython3",
   "version": "3.9.13"
  }
 },
 "nbformat": 4,
 "nbformat_minor": 5
}
